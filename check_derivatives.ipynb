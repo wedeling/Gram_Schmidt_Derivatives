{
 "cells": [
  {
   "cell_type": "markdown",
   "id": "f184be6d",
   "metadata": {},
   "source": [
    "# Valdidation of Gram-Schmidt derivative expressions\n",
    "\n",
    "\n",
    "Gram-Schmidt orthogonalization is a well-known technique where a non-orthogonal (yet independent) set of column vectors ${\\bf q}_i\\in\\mathbb{R}^D$ is made orthogonal via\n",
    "\n",
    "\\begin{align}\n",
    " {\\bf w}_i = {\\bf q}_i - \\sum_{j=1}^{i-1}\\left(\\frac{{\\bf w}_j^T{\\bf q}_i}{{\\bf w}_j^T{\\bf w}_j}\\right){\\bf w}_j, \\quad i = 1,\\cdots, d.\n",
    " \\label{eq:GS}\n",
    "\\end{align}\n",
    "\n",
    "That is, we start with ${\\bf w}_1 := {\\bf q}_1$, and for all subsequent vectors ${\\bf q}_i$ we subtract the projections of ${\\bf q}_i$ onto each vector ${\\bf w}_j$ which has previously been orthogonalized. This leaves us with a orthogonal basis $ \\left[{\\bf w}_1({\\bf q}_1)\\;\\;{\\bf w}_2({\\bf q}_1, {\\bf q}_2)\\;\\;\\cdots\\;\\;{\\bf w}_d({\\bf q}_1,{\\bf q}_2\\,\\cdots,{\\bf q}_d)\\right]$. Finally, to obtain an orthonormal basis, each column vector can be divided by its length:\n",
    "\n",
    "\\begin{align}\n",
    "\\frac{{\\bf w}_1({\\bf q}_1)}{\\lVert{\\bf w}_1({\\bf q}_1)\\rVert_2},\\;\\;\\frac{{\\bf w}_2({\\bf q}_1, {\\bf q}_2)}{\\lVert{\\bf w}_2({\\bf q}_1, {\\bf q}_2)\\rVert_2},\\;\\;\\cdots\\;\\;,\\frac{{\\bf w}_d({\\bf q}_1,{\\bf q}_2\\,\\cdots,{\\bf q}_d)}{\\lVert{\\bf w}_d({\\bf q}_1,{\\bf q}_2\\,\\cdots,{\\bf q}_d)\\rVert_2}\n",
    "\\end{align}\n",
    "\n",
    "We have used matrix calculus to find a simple recurrence relation for the *derivatives* of the Gram-Schmidt vectors, starting with the gradient of the unnormalized vector:\n",
    "\n",
    "\\begin{align}\n",
    "\\boxed{\n",
    "\\frac{\\partial{\\bf w}_1}{\\partial{\\bf q}_1} =: D_{11} = I_D \\\\ \n",
    "\\frac{\\partial{\\bf w}_i}{\\partial{\\bf q}_i} =: D_{ii} = D_{i-1,\\, i-1} - \\frac{{\\bf w}_{i-1}{\\bf w}_{i-1}^T}{{\\bf w}_{i-1}^T{\\bf w}_{i-1}},\\quad i > 1, \\\\\n",
    "%\n",
    "\\frac{\\partial{\\bf w}_i}{\\partial{\\bf q}_k} = \\sum_{j=1}^{i-1}D_{ij}\\frac{\\partial{\\bf w}_j}{\\partial{\\bf q}_k},\\quad i\\neq k, \\quad  i > k, \\\\\n",
    "%\n",
    "D_{ij}:= \n",
    "%\n",
    "-\\frac{\\partial}{\\partial{\\bf w}_j}\\left[\\left(\\frac{{\\bf w}_j^T{\\bf q}_i}{{\\bf w}_j^T{\\bf w}_j}\\right){\\bf w}_j\\right] =\n",
    "%\n",
    "-\\left[\\frac{1}{{\\bf w}_j^T{\\bf w}_j}\\;{\\bf w}_j{\\bf q}_i^T - \\frac{2{\\bf w}_j^T{\\bf q}_i}{({\\bf w}_j^T{\\bf w}_j)^2}\\;{\\bf w}_j{\\bf w}_j^T + \\frac{{\\bf w}_j^T{\\bf q}_i}{{\\bf w}_j^T{\\bf w}_j}\\; I_D\\right],\\quad i\\neq j,\\quad i > j.}\n",
    "%\n",
    "\\end{align}\n",
    "\n",
    "\n",
    "Here, $I_D$ is the $D$-dimensional identity matrix. Note that we have separate expressions for the \"normal\" derivatives $\\partial{\\bf w}_i/\\partial{\\bf q}_i$ and \"shear\" derivatives $\\partial{\\bf w}_i/\\partial{\\bf q}_j$ (where $i\\neq j$), which we will compute in a recursive manner, starting with $i=1$.\n",
    "\n",
    "It is useful to note that due to ${\\bf w}_1 = {\\bf w}_1({\\bf q}_1),\\;\\;{\\bf w}_2 = {\\bf w}_2({\\bf q}_1, {\\bf q}_2),\\;\\;\\cdots\\;\\;,{\\bf w}_d = {\\bf w}_d({\\bf q}_1,{\\bf q}_2\\,\\cdots,{\\bf q}_d)$, we already know that $\\partial{\\bf w}_i/\\partial{\\bf q}_k=0$ if $i < k$.\n",
    "\n",
    "### Goal\n",
    "We will use this notebook to;\n",
    "\n",
    "* validate the recurrence relations of Gram-Schmidt derivatives, using brute-force symbolic calulations of the gradients performed with Sympy, and \n",
    "\n",
    "* to verify our Python implementation of the recurrence relations (`gram_schmidt_dericatives.py`).\n",
    "\n",
    "The derivation of the recurrence relations can be found ![here](./derivation.pdf). You need to have Numpy and Sympy installed. If not, uncomment the corresponding lines below."
   ]
  },
  {
   "cell_type": "markdown",
   "id": "e1de8490",
   "metadata": {},
   "source": [
    "# Validation of mathematical equations"
   ]
  },
  {
   "cell_type": "code",
   "execution_count": 35,
   "id": "8420d8bf",
   "metadata": {},
   "outputs": [],
   "source": [
    "#!pip install sympy\n",
    "#!pip install numpy"
   ]
  },
  {
   "cell_type": "code",
   "execution_count": 36,
   "id": "bdd4cf6c",
   "metadata": {},
   "outputs": [],
   "source": [
    "import sympy as sp\n",
    "import numpy as np"
   ]
  },
  {
   "cell_type": "markdown",
   "id": "05e5c198",
   "metadata": {},
   "source": [
    "Here, we are creating $d=3$ independent symbolic basis vectors with $D=4$ entries each:"
   ]
  },
  {
   "cell_type": "code",
   "execution_count": 37,
   "id": "f149bd3f",
   "metadata": {},
   "outputs": [
    {
     "data": {
      "text/latex": [
       "$\\displaystyle \\left[\\begin{matrix}q_{11}\\\\q_{21}\\\\q_{31}\\\\q_{41}\\end{matrix}\\right]$"
      ],
      "text/plain": [
       "Matrix([\n",
       "[q_11],\n",
       "[q_21],\n",
       "[q_31],\n",
       "[q_41]])"
      ]
     },
     "execution_count": 37,
     "metadata": {},
     "output_type": "execute_result"
    }
   ],
   "source": [
    "D = 4\n",
    "d = 3\n",
    "for i in range(D):\n",
    "    for j in range(d):\n",
    "        vars()['q_%d%d' % (i+1, j+1)] = sp.var('q_%d%d' % (i+1, j+1), real=True)\n",
    "\n",
    "q1 = sp.Matrix([q_11, q_21, q_31, q_41])\n",
    "q2 = sp.Matrix([q_12, q_22, q_32, q_42])\n",
    "q3 = sp.Matrix([q_13, q_23, q_33, q_43])\n",
    "q1"
   ]
  },
  {
   "cell_type": "code",
   "execution_count": 38,
   "id": "ebb4a52a",
   "metadata": {},
   "outputs": [],
   "source": [
    "# Gram-Schmidt orthogonalization. Need to add [0] after the inner product for division to work.\n",
    "w1 = q1\n",
    "w2 = q2 - (w1.T * q2)[0] / (w1.T * w1)[0] * w1 \n",
    "w3 = q3 - (w1.T * q3)[0] / (w1.T * w1)[0] * w1 - (w2.T * q3)[0] / (w2.T * w2)[0] * w2 "
   ]
  },
  {
   "cell_type": "markdown",
   "id": "4a3ee45b",
   "metadata": {},
   "source": [
    "A small sanity check to see if the ${\\bf w}_i$ are orthogonal:"
   ]
  },
  {
   "cell_type": "code",
   "execution_count": 39,
   "id": "8ac1c0af",
   "metadata": {},
   "outputs": [
    {
     "data": {
      "text/latex": [
       "$\\displaystyle 0$"
      ],
      "text/plain": [
       "0"
      ]
     },
     "execution_count": 39,
     "metadata": {},
     "output_type": "execute_result"
    }
   ],
   "source": [
    "sp.simplify((w1.T * w2)[0])"
   ]
  },
  {
   "cell_type": "markdown",
   "id": "1e5a152e",
   "metadata": {},
   "source": [
    "Note that the ${\\bf w}_i$ vectors quickly become a complicated expression of a very large number of $q_{ij}$ terms:"
   ]
  },
  {
   "cell_type": "code",
   "execution_count": 40,
   "id": "9bfd25e7",
   "metadata": {},
   "outputs": [
    {
     "data": {
      "text/latex": [
       "$\\displaystyle \\left[\\begin{matrix}- \\frac{q_{11} \\left(q_{11} q_{13} + q_{21} q_{23} + q_{31} q_{33} + q_{41} q_{43}\\right)}{q_{11}^{2} + q_{21}^{2} + q_{31}^{2} + q_{41}^{2}} + q_{13} - \\frac{\\left(- \\frac{q_{11} \\left(q_{11} q_{12} + q_{21} q_{22} + q_{31} q_{32} + q_{41} q_{42}\\right)}{q_{11}^{2} + q_{21}^{2} + q_{31}^{2} + q_{41}^{2}} + q_{12}\\right) \\left(q_{13} \\left(- \\frac{q_{11} \\left(q_{11} q_{12} + q_{21} q_{22} + q_{31} q_{32} + q_{41} q_{42}\\right)}{q_{11}^{2} + q_{21}^{2} + q_{31}^{2} + q_{41}^{2}} + q_{12}\\right) + q_{23} \\left(- \\frac{q_{21} \\left(q_{11} q_{12} + q_{21} q_{22} + q_{31} q_{32} + q_{41} q_{42}\\right)}{q_{11}^{2} + q_{21}^{2} + q_{31}^{2} + q_{41}^{2}} + q_{22}\\right) + q_{33} \\left(- \\frac{q_{31} \\left(q_{11} q_{12} + q_{21} q_{22} + q_{31} q_{32} + q_{41} q_{42}\\right)}{q_{11}^{2} + q_{21}^{2} + q_{31}^{2} + q_{41}^{2}} + q_{32}\\right) + q_{43} \\left(- \\frac{q_{41} \\left(q_{11} q_{12} + q_{21} q_{22} + q_{31} q_{32} + q_{41} q_{42}\\right)}{q_{11}^{2} + q_{21}^{2} + q_{31}^{2} + q_{41}^{2}} + q_{42}\\right)\\right)}{\\left(- \\frac{q_{11} \\left(q_{11} q_{12} + q_{21} q_{22} + q_{31} q_{32} + q_{41} q_{42}\\right)}{q_{11}^{2} + q_{21}^{2} + q_{31}^{2} + q_{41}^{2}} + q_{12}\\right)^{2} + \\left(- \\frac{q_{21} \\left(q_{11} q_{12} + q_{21} q_{22} + q_{31} q_{32} + q_{41} q_{42}\\right)}{q_{11}^{2} + q_{21}^{2} + q_{31}^{2} + q_{41}^{2}} + q_{22}\\right)^{2} + \\left(- \\frac{q_{31} \\left(q_{11} q_{12} + q_{21} q_{22} + q_{31} q_{32} + q_{41} q_{42}\\right)}{q_{11}^{2} + q_{21}^{2} + q_{31}^{2} + q_{41}^{2}} + q_{32}\\right)^{2} + \\left(- \\frac{q_{41} \\left(q_{11} q_{12} + q_{21} q_{22} + q_{31} q_{32} + q_{41} q_{42}\\right)}{q_{11}^{2} + q_{21}^{2} + q_{31}^{2} + q_{41}^{2}} + q_{42}\\right)^{2}}\\\\- \\frac{q_{21} \\left(q_{11} q_{13} + q_{21} q_{23} + q_{31} q_{33} + q_{41} q_{43}\\right)}{q_{11}^{2} + q_{21}^{2} + q_{31}^{2} + q_{41}^{2}} + q_{23} - \\frac{\\left(- \\frac{q_{21} \\left(q_{11} q_{12} + q_{21} q_{22} + q_{31} q_{32} + q_{41} q_{42}\\right)}{q_{11}^{2} + q_{21}^{2} + q_{31}^{2} + q_{41}^{2}} + q_{22}\\right) \\left(q_{13} \\left(- \\frac{q_{11} \\left(q_{11} q_{12} + q_{21} q_{22} + q_{31} q_{32} + q_{41} q_{42}\\right)}{q_{11}^{2} + q_{21}^{2} + q_{31}^{2} + q_{41}^{2}} + q_{12}\\right) + q_{23} \\left(- \\frac{q_{21} \\left(q_{11} q_{12} + q_{21} q_{22} + q_{31} q_{32} + q_{41} q_{42}\\right)}{q_{11}^{2} + q_{21}^{2} + q_{31}^{2} + q_{41}^{2}} + q_{22}\\right) + q_{33} \\left(- \\frac{q_{31} \\left(q_{11} q_{12} + q_{21} q_{22} + q_{31} q_{32} + q_{41} q_{42}\\right)}{q_{11}^{2} + q_{21}^{2} + q_{31}^{2} + q_{41}^{2}} + q_{32}\\right) + q_{43} \\left(- \\frac{q_{41} \\left(q_{11} q_{12} + q_{21} q_{22} + q_{31} q_{32} + q_{41} q_{42}\\right)}{q_{11}^{2} + q_{21}^{2} + q_{31}^{2} + q_{41}^{2}} + q_{42}\\right)\\right)}{\\left(- \\frac{q_{11} \\left(q_{11} q_{12} + q_{21} q_{22} + q_{31} q_{32} + q_{41} q_{42}\\right)}{q_{11}^{2} + q_{21}^{2} + q_{31}^{2} + q_{41}^{2}} + q_{12}\\right)^{2} + \\left(- \\frac{q_{21} \\left(q_{11} q_{12} + q_{21} q_{22} + q_{31} q_{32} + q_{41} q_{42}\\right)}{q_{11}^{2} + q_{21}^{2} + q_{31}^{2} + q_{41}^{2}} + q_{22}\\right)^{2} + \\left(- \\frac{q_{31} \\left(q_{11} q_{12} + q_{21} q_{22} + q_{31} q_{32} + q_{41} q_{42}\\right)}{q_{11}^{2} + q_{21}^{2} + q_{31}^{2} + q_{41}^{2}} + q_{32}\\right)^{2} + \\left(- \\frac{q_{41} \\left(q_{11} q_{12} + q_{21} q_{22} + q_{31} q_{32} + q_{41} q_{42}\\right)}{q_{11}^{2} + q_{21}^{2} + q_{31}^{2} + q_{41}^{2}} + q_{42}\\right)^{2}}\\\\- \\frac{q_{31} \\left(q_{11} q_{13} + q_{21} q_{23} + q_{31} q_{33} + q_{41} q_{43}\\right)}{q_{11}^{2} + q_{21}^{2} + q_{31}^{2} + q_{41}^{2}} + q_{33} - \\frac{\\left(- \\frac{q_{31} \\left(q_{11} q_{12} + q_{21} q_{22} + q_{31} q_{32} + q_{41} q_{42}\\right)}{q_{11}^{2} + q_{21}^{2} + q_{31}^{2} + q_{41}^{2}} + q_{32}\\right) \\left(q_{13} \\left(- \\frac{q_{11} \\left(q_{11} q_{12} + q_{21} q_{22} + q_{31} q_{32} + q_{41} q_{42}\\right)}{q_{11}^{2} + q_{21}^{2} + q_{31}^{2} + q_{41}^{2}} + q_{12}\\right) + q_{23} \\left(- \\frac{q_{21} \\left(q_{11} q_{12} + q_{21} q_{22} + q_{31} q_{32} + q_{41} q_{42}\\right)}{q_{11}^{2} + q_{21}^{2} + q_{31}^{2} + q_{41}^{2}} + q_{22}\\right) + q_{33} \\left(- \\frac{q_{31} \\left(q_{11} q_{12} + q_{21} q_{22} + q_{31} q_{32} + q_{41} q_{42}\\right)}{q_{11}^{2} + q_{21}^{2} + q_{31}^{2} + q_{41}^{2}} + q_{32}\\right) + q_{43} \\left(- \\frac{q_{41} \\left(q_{11} q_{12} + q_{21} q_{22} + q_{31} q_{32} + q_{41} q_{42}\\right)}{q_{11}^{2} + q_{21}^{2} + q_{31}^{2} + q_{41}^{2}} + q_{42}\\right)\\right)}{\\left(- \\frac{q_{11} \\left(q_{11} q_{12} + q_{21} q_{22} + q_{31} q_{32} + q_{41} q_{42}\\right)}{q_{11}^{2} + q_{21}^{2} + q_{31}^{2} + q_{41}^{2}} + q_{12}\\right)^{2} + \\left(- \\frac{q_{21} \\left(q_{11} q_{12} + q_{21} q_{22} + q_{31} q_{32} + q_{41} q_{42}\\right)}{q_{11}^{2} + q_{21}^{2} + q_{31}^{2} + q_{41}^{2}} + q_{22}\\right)^{2} + \\left(- \\frac{q_{31} \\left(q_{11} q_{12} + q_{21} q_{22} + q_{31} q_{32} + q_{41} q_{42}\\right)}{q_{11}^{2} + q_{21}^{2} + q_{31}^{2} + q_{41}^{2}} + q_{32}\\right)^{2} + \\left(- \\frac{q_{41} \\left(q_{11} q_{12} + q_{21} q_{22} + q_{31} q_{32} + q_{41} q_{42}\\right)}{q_{11}^{2} + q_{21}^{2} + q_{31}^{2} + q_{41}^{2}} + q_{42}\\right)^{2}}\\\\- \\frac{q_{41} \\left(q_{11} q_{13} + q_{21} q_{23} + q_{31} q_{33} + q_{41} q_{43}\\right)}{q_{11}^{2} + q_{21}^{2} + q_{31}^{2} + q_{41}^{2}} + q_{43} - \\frac{\\left(- \\frac{q_{41} \\left(q_{11} q_{12} + q_{21} q_{22} + q_{31} q_{32} + q_{41} q_{42}\\right)}{q_{11}^{2} + q_{21}^{2} + q_{31}^{2} + q_{41}^{2}} + q_{42}\\right) \\left(q_{13} \\left(- \\frac{q_{11} \\left(q_{11} q_{12} + q_{21} q_{22} + q_{31} q_{32} + q_{41} q_{42}\\right)}{q_{11}^{2} + q_{21}^{2} + q_{31}^{2} + q_{41}^{2}} + q_{12}\\right) + q_{23} \\left(- \\frac{q_{21} \\left(q_{11} q_{12} + q_{21} q_{22} + q_{31} q_{32} + q_{41} q_{42}\\right)}{q_{11}^{2} + q_{21}^{2} + q_{31}^{2} + q_{41}^{2}} + q_{22}\\right) + q_{33} \\left(- \\frac{q_{31} \\left(q_{11} q_{12} + q_{21} q_{22} + q_{31} q_{32} + q_{41} q_{42}\\right)}{q_{11}^{2} + q_{21}^{2} + q_{31}^{2} + q_{41}^{2}} + q_{32}\\right) + q_{43} \\left(- \\frac{q_{41} \\left(q_{11} q_{12} + q_{21} q_{22} + q_{31} q_{32} + q_{41} q_{42}\\right)}{q_{11}^{2} + q_{21}^{2} + q_{31}^{2} + q_{41}^{2}} + q_{42}\\right)\\right)}{\\left(- \\frac{q_{11} \\left(q_{11} q_{12} + q_{21} q_{22} + q_{31} q_{32} + q_{41} q_{42}\\right)}{q_{11}^{2} + q_{21}^{2} + q_{31}^{2} + q_{41}^{2}} + q_{12}\\right)^{2} + \\left(- \\frac{q_{21} \\left(q_{11} q_{12} + q_{21} q_{22} + q_{31} q_{32} + q_{41} q_{42}\\right)}{q_{11}^{2} + q_{21}^{2} + q_{31}^{2} + q_{41}^{2}} + q_{22}\\right)^{2} + \\left(- \\frac{q_{31} \\left(q_{11} q_{12} + q_{21} q_{22} + q_{31} q_{32} + q_{41} q_{42}\\right)}{q_{11}^{2} + q_{21}^{2} + q_{31}^{2} + q_{41}^{2}} + q_{32}\\right)^{2} + \\left(- \\frac{q_{41} \\left(q_{11} q_{12} + q_{21} q_{22} + q_{31} q_{32} + q_{41} q_{42}\\right)}{q_{11}^{2} + q_{21}^{2} + q_{31}^{2} + q_{41}^{2}} + q_{42}\\right)^{2}}\\end{matrix}\\right]$"
      ],
      "text/plain": [
       "Matrix([\n",
       "[-q_11*(q_11*q_13 + q_21*q_23 + q_31*q_33 + q_41*q_43)/(q_11**2 + q_21**2 + q_31**2 + q_41**2) + q_13 - (-q_11*(q_11*q_12 + q_21*q_22 + q_31*q_32 + q_41*q_42)/(q_11**2 + q_21**2 + q_31**2 + q_41**2) + q_12)*(q_13*(-q_11*(q_11*q_12 + q_21*q_22 + q_31*q_32 + q_41*q_42)/(q_11**2 + q_21**2 + q_31**2 + q_41**2) + q_12) + q_23*(-q_21*(q_11*q_12 + q_21*q_22 + q_31*q_32 + q_41*q_42)/(q_11**2 + q_21**2 + q_31**2 + q_41**2) + q_22) + q_33*(-q_31*(q_11*q_12 + q_21*q_22 + q_31*q_32 + q_41*q_42)/(q_11**2 + q_21**2 + q_31**2 + q_41**2) + q_32) + q_43*(-q_41*(q_11*q_12 + q_21*q_22 + q_31*q_32 + q_41*q_42)/(q_11**2 + q_21**2 + q_31**2 + q_41**2) + q_42))/((-q_11*(q_11*q_12 + q_21*q_22 + q_31*q_32 + q_41*q_42)/(q_11**2 + q_21**2 + q_31**2 + q_41**2) + q_12)**2 + (-q_21*(q_11*q_12 + q_21*q_22 + q_31*q_32 + q_41*q_42)/(q_11**2 + q_21**2 + q_31**2 + q_41**2) + q_22)**2 + (-q_31*(q_11*q_12 + q_21*q_22 + q_31*q_32 + q_41*q_42)/(q_11**2 + q_21**2 + q_31**2 + q_41**2) + q_32)**2 + (-q_41*(q_11*q_12 + q_21*q_22 + q_31*q_32 + q_41*q_42)/(q_11**2 + q_21**2 + q_31**2 + q_41**2) + q_42)**2)],\n",
       "[-q_21*(q_11*q_13 + q_21*q_23 + q_31*q_33 + q_41*q_43)/(q_11**2 + q_21**2 + q_31**2 + q_41**2) + q_23 - (-q_21*(q_11*q_12 + q_21*q_22 + q_31*q_32 + q_41*q_42)/(q_11**2 + q_21**2 + q_31**2 + q_41**2) + q_22)*(q_13*(-q_11*(q_11*q_12 + q_21*q_22 + q_31*q_32 + q_41*q_42)/(q_11**2 + q_21**2 + q_31**2 + q_41**2) + q_12) + q_23*(-q_21*(q_11*q_12 + q_21*q_22 + q_31*q_32 + q_41*q_42)/(q_11**2 + q_21**2 + q_31**2 + q_41**2) + q_22) + q_33*(-q_31*(q_11*q_12 + q_21*q_22 + q_31*q_32 + q_41*q_42)/(q_11**2 + q_21**2 + q_31**2 + q_41**2) + q_32) + q_43*(-q_41*(q_11*q_12 + q_21*q_22 + q_31*q_32 + q_41*q_42)/(q_11**2 + q_21**2 + q_31**2 + q_41**2) + q_42))/((-q_11*(q_11*q_12 + q_21*q_22 + q_31*q_32 + q_41*q_42)/(q_11**2 + q_21**2 + q_31**2 + q_41**2) + q_12)**2 + (-q_21*(q_11*q_12 + q_21*q_22 + q_31*q_32 + q_41*q_42)/(q_11**2 + q_21**2 + q_31**2 + q_41**2) + q_22)**2 + (-q_31*(q_11*q_12 + q_21*q_22 + q_31*q_32 + q_41*q_42)/(q_11**2 + q_21**2 + q_31**2 + q_41**2) + q_32)**2 + (-q_41*(q_11*q_12 + q_21*q_22 + q_31*q_32 + q_41*q_42)/(q_11**2 + q_21**2 + q_31**2 + q_41**2) + q_42)**2)],\n",
       "[-q_31*(q_11*q_13 + q_21*q_23 + q_31*q_33 + q_41*q_43)/(q_11**2 + q_21**2 + q_31**2 + q_41**2) + q_33 - (-q_31*(q_11*q_12 + q_21*q_22 + q_31*q_32 + q_41*q_42)/(q_11**2 + q_21**2 + q_31**2 + q_41**2) + q_32)*(q_13*(-q_11*(q_11*q_12 + q_21*q_22 + q_31*q_32 + q_41*q_42)/(q_11**2 + q_21**2 + q_31**2 + q_41**2) + q_12) + q_23*(-q_21*(q_11*q_12 + q_21*q_22 + q_31*q_32 + q_41*q_42)/(q_11**2 + q_21**2 + q_31**2 + q_41**2) + q_22) + q_33*(-q_31*(q_11*q_12 + q_21*q_22 + q_31*q_32 + q_41*q_42)/(q_11**2 + q_21**2 + q_31**2 + q_41**2) + q_32) + q_43*(-q_41*(q_11*q_12 + q_21*q_22 + q_31*q_32 + q_41*q_42)/(q_11**2 + q_21**2 + q_31**2 + q_41**2) + q_42))/((-q_11*(q_11*q_12 + q_21*q_22 + q_31*q_32 + q_41*q_42)/(q_11**2 + q_21**2 + q_31**2 + q_41**2) + q_12)**2 + (-q_21*(q_11*q_12 + q_21*q_22 + q_31*q_32 + q_41*q_42)/(q_11**2 + q_21**2 + q_31**2 + q_41**2) + q_22)**2 + (-q_31*(q_11*q_12 + q_21*q_22 + q_31*q_32 + q_41*q_42)/(q_11**2 + q_21**2 + q_31**2 + q_41**2) + q_32)**2 + (-q_41*(q_11*q_12 + q_21*q_22 + q_31*q_32 + q_41*q_42)/(q_11**2 + q_21**2 + q_31**2 + q_41**2) + q_42)**2)],\n",
       "[-q_41*(q_11*q_13 + q_21*q_23 + q_31*q_33 + q_41*q_43)/(q_11**2 + q_21**2 + q_31**2 + q_41**2) + q_43 - (-q_41*(q_11*q_12 + q_21*q_22 + q_31*q_32 + q_41*q_42)/(q_11**2 + q_21**2 + q_31**2 + q_41**2) + q_42)*(q_13*(-q_11*(q_11*q_12 + q_21*q_22 + q_31*q_32 + q_41*q_42)/(q_11**2 + q_21**2 + q_31**2 + q_41**2) + q_12) + q_23*(-q_21*(q_11*q_12 + q_21*q_22 + q_31*q_32 + q_41*q_42)/(q_11**2 + q_21**2 + q_31**2 + q_41**2) + q_22) + q_33*(-q_31*(q_11*q_12 + q_21*q_22 + q_31*q_32 + q_41*q_42)/(q_11**2 + q_21**2 + q_31**2 + q_41**2) + q_32) + q_43*(-q_41*(q_11*q_12 + q_21*q_22 + q_31*q_32 + q_41*q_42)/(q_11**2 + q_21**2 + q_31**2 + q_41**2) + q_42))/((-q_11*(q_11*q_12 + q_21*q_22 + q_31*q_32 + q_41*q_42)/(q_11**2 + q_21**2 + q_31**2 + q_41**2) + q_12)**2 + (-q_21*(q_11*q_12 + q_21*q_22 + q_31*q_32 + q_41*q_42)/(q_11**2 + q_21**2 + q_31**2 + q_41**2) + q_22)**2 + (-q_31*(q_11*q_12 + q_21*q_22 + q_31*q_32 + q_41*q_42)/(q_11**2 + q_21**2 + q_31**2 + q_41**2) + q_32)**2 + (-q_41*(q_11*q_12 + q_21*q_22 + q_31*q_32 + q_41*q_42)/(q_11**2 + q_21**2 + q_31**2 + q_41**2) + q_42)**2)]])"
      ]
     },
     "execution_count": 40,
     "metadata": {},
     "output_type": "execute_result"
    }
   ],
   "source": [
    "w3"
   ]
  },
  {
   "cell_type": "markdown",
   "id": "c296c169",
   "metadata": {},
   "source": [
    "Although the expression above is algebraic, it might seem to complicated to find the derivative of the ${\\bf w}_i$ vectors with respect to the ${\\bf q}_k$ vectors, hence the need for the recurrence relations. "
   ]
  },
  {
   "cell_type": "markdown",
   "id": "c0c8e39d",
   "metadata": {},
   "source": [
    "We now create a subroutine for computing the $D\\times D$ matrix $D_{ij}$:\n"
   ]
  },
  {
   "cell_type": "code",
   "execution_count": 41,
   "id": "9114b9cc",
   "metadata": {},
   "outputs": [],
   "source": [
    "def D_ij(wj, qi):\n",
    "    \"\"\"\n",
    "    Compute the D_ij matrices which appear in the gradients of the\n",
    "    Gram-Schmidt vectors w_i wrt the original unnormalized vectors q_k.\n",
    "    The relation below is only defined for i unequal to j:\n",
    "\n",
    "    D_ij = 1/(w_j^Tw_j) [w_jq_i^T - (2w_j^Tq_i)/(w_j^Tw_j)*w_jw_j^T + w_j^Tq_i*I]\n",
    "    where I is the D x D identity matrix.\n",
    "\n",
    "    Parameters\n",
    "    ----------\n",
    "    w_j : sympy array, shape (D,1)\n",
    "        The orthogonal, but not yet normalized, vector w_i, i=1,...,d.\n",
    "    q_i : sympy array, shape (D,1)\n",
    "        An orginal, non-orthonogal, vector q_j, j=1,...,d.\n",
    "\n",
    "    Returns\n",
    "    -------\n",
    "    D_ij : array\n",
    "        The D x D matrix described above.\n",
    "\n",
    "    \"\"\"\n",
    "    \n",
    "    term1 = wj * qi.T\n",
    "    term2 = 2 * (wj.T * qi)[0] / (wj.T * wj)[0] * wj * wj.T\n",
    "    term3 = (wj.T * qi)[0] * sp.eye(D)\n",
    "    \n",
    "    return -(term1 - term2 + term3) / (wj.T * wj)[0]"
   ]
  },
  {
   "cell_type": "markdown",
   "id": "dfaac16d",
   "metadata": {},
   "source": [
    "##  Verification of $\\partial{\\bf w}_2/\\partial{\\bf q}_1$\n",
    "\n",
    "First we compute the \"shear\" derivative $\\partial{\\bf w}_2/\\partial{\\bf q}_1$:\n",
    "\n",
    "\\begin{align}\n",
    "\\frac{\\partial{\\bf w}_2}{\\partial{\\bf q}_1} = \\sum_{j=1}^1 D_{2j}\\frac{\\partial{\\bf w}_j}{\\partial{\\bf q}_1} = D_{21}\\frac{\\partial{\\bf w}_1}{\\partial{\\bf q}_1} = D_{21}D_{11} = D_{21}\n",
    "\\end{align}\n",
    "\n",
    "Below we'll compute $D_{21}$ and the symbolic derivative of $\\partial{\\bf w}_2/\\partial{\\bf q}_1$"
   ]
  },
  {
   "cell_type": "code",
   "execution_count": 42,
   "id": "2fc3c8b9",
   "metadata": {},
   "outputs": [
    {
     "data": {
      "text/latex": [
       "$\\displaystyle \\left[\\begin{matrix}\\frac{\\frac{q_{11}^{2} \\left(2 q_{11} q_{12} + 2 q_{21} q_{22} + 2 q_{31} q_{32} + 2 q_{41} q_{42}\\right)}{q_{11}^{2} + q_{21}^{2} + q_{31}^{2} + q_{41}^{2}} - 2 q_{11} q_{12} - q_{21} q_{22} - q_{31} q_{32} - q_{41} q_{42}}{q_{11}^{2} + q_{21}^{2} + q_{31}^{2} + q_{41}^{2}} & \\frac{\\frac{q_{11} q_{21} \\left(2 q_{11} q_{12} + 2 q_{21} q_{22} + 2 q_{31} q_{32} + 2 q_{41} q_{42}\\right)}{q_{11}^{2} + q_{21}^{2} + q_{31}^{2} + q_{41}^{2}} - q_{11} q_{22}}{q_{11}^{2} + q_{21}^{2} + q_{31}^{2} + q_{41}^{2}} & \\frac{\\frac{q_{11} q_{31} \\left(2 q_{11} q_{12} + 2 q_{21} q_{22} + 2 q_{31} q_{32} + 2 q_{41} q_{42}\\right)}{q_{11}^{2} + q_{21}^{2} + q_{31}^{2} + q_{41}^{2}} - q_{11} q_{32}}{q_{11}^{2} + q_{21}^{2} + q_{31}^{2} + q_{41}^{2}} & \\frac{\\frac{q_{11} q_{41} \\left(2 q_{11} q_{12} + 2 q_{21} q_{22} + 2 q_{31} q_{32} + 2 q_{41} q_{42}\\right)}{q_{11}^{2} + q_{21}^{2} + q_{31}^{2} + q_{41}^{2}} - q_{11} q_{42}}{q_{11}^{2} + q_{21}^{2} + q_{31}^{2} + q_{41}^{2}}\\\\\\frac{\\frac{q_{11} q_{21} \\left(2 q_{11} q_{12} + 2 q_{21} q_{22} + 2 q_{31} q_{32} + 2 q_{41} q_{42}\\right)}{q_{11}^{2} + q_{21}^{2} + q_{31}^{2} + q_{41}^{2}} - q_{12} q_{21}}{q_{11}^{2} + q_{21}^{2} + q_{31}^{2} + q_{41}^{2}} & \\frac{- q_{11} q_{12} + \\frac{q_{21}^{2} \\left(2 q_{11} q_{12} + 2 q_{21} q_{22} + 2 q_{31} q_{32} + 2 q_{41} q_{42}\\right)}{q_{11}^{2} + q_{21}^{2} + q_{31}^{2} + q_{41}^{2}} - 2 q_{21} q_{22} - q_{31} q_{32} - q_{41} q_{42}}{q_{11}^{2} + q_{21}^{2} + q_{31}^{2} + q_{41}^{2}} & \\frac{\\frac{q_{21} q_{31} \\left(2 q_{11} q_{12} + 2 q_{21} q_{22} + 2 q_{31} q_{32} + 2 q_{41} q_{42}\\right)}{q_{11}^{2} + q_{21}^{2} + q_{31}^{2} + q_{41}^{2}} - q_{21} q_{32}}{q_{11}^{2} + q_{21}^{2} + q_{31}^{2} + q_{41}^{2}} & \\frac{\\frac{q_{21} q_{41} \\left(2 q_{11} q_{12} + 2 q_{21} q_{22} + 2 q_{31} q_{32} + 2 q_{41} q_{42}\\right)}{q_{11}^{2} + q_{21}^{2} + q_{31}^{2} + q_{41}^{2}} - q_{21} q_{42}}{q_{11}^{2} + q_{21}^{2} + q_{31}^{2} + q_{41}^{2}}\\\\\\frac{\\frac{q_{11} q_{31} \\left(2 q_{11} q_{12} + 2 q_{21} q_{22} + 2 q_{31} q_{32} + 2 q_{41} q_{42}\\right)}{q_{11}^{2} + q_{21}^{2} + q_{31}^{2} + q_{41}^{2}} - q_{12} q_{31}}{q_{11}^{2} + q_{21}^{2} + q_{31}^{2} + q_{41}^{2}} & \\frac{\\frac{q_{21} q_{31} \\left(2 q_{11} q_{12} + 2 q_{21} q_{22} + 2 q_{31} q_{32} + 2 q_{41} q_{42}\\right)}{q_{11}^{2} + q_{21}^{2} + q_{31}^{2} + q_{41}^{2}} - q_{22} q_{31}}{q_{11}^{2} + q_{21}^{2} + q_{31}^{2} + q_{41}^{2}} & \\frac{- q_{11} q_{12} - q_{21} q_{22} + \\frac{q_{31}^{2} \\left(2 q_{11} q_{12} + 2 q_{21} q_{22} + 2 q_{31} q_{32} + 2 q_{41} q_{42}\\right)}{q_{11}^{2} + q_{21}^{2} + q_{31}^{2} + q_{41}^{2}} - 2 q_{31} q_{32} - q_{41} q_{42}}{q_{11}^{2} + q_{21}^{2} + q_{31}^{2} + q_{41}^{2}} & \\frac{\\frac{q_{31} q_{41} \\left(2 q_{11} q_{12} + 2 q_{21} q_{22} + 2 q_{31} q_{32} + 2 q_{41} q_{42}\\right)}{q_{11}^{2} + q_{21}^{2} + q_{31}^{2} + q_{41}^{2}} - q_{31} q_{42}}{q_{11}^{2} + q_{21}^{2} + q_{31}^{2} + q_{41}^{2}}\\\\\\frac{\\frac{q_{11} q_{41} \\left(2 q_{11} q_{12} + 2 q_{21} q_{22} + 2 q_{31} q_{32} + 2 q_{41} q_{42}\\right)}{q_{11}^{2} + q_{21}^{2} + q_{31}^{2} + q_{41}^{2}} - q_{12} q_{41}}{q_{11}^{2} + q_{21}^{2} + q_{31}^{2} + q_{41}^{2}} & \\frac{\\frac{q_{21} q_{41} \\left(2 q_{11} q_{12} + 2 q_{21} q_{22} + 2 q_{31} q_{32} + 2 q_{41} q_{42}\\right)}{q_{11}^{2} + q_{21}^{2} + q_{31}^{2} + q_{41}^{2}} - q_{22} q_{41}}{q_{11}^{2} + q_{21}^{2} + q_{31}^{2} + q_{41}^{2}} & \\frac{\\frac{q_{31} q_{41} \\left(2 q_{11} q_{12} + 2 q_{21} q_{22} + 2 q_{31} q_{32} + 2 q_{41} q_{42}\\right)}{q_{11}^{2} + q_{21}^{2} + q_{31}^{2} + q_{41}^{2}} - q_{32} q_{41}}{q_{11}^{2} + q_{21}^{2} + q_{31}^{2} + q_{41}^{2}} & \\frac{- q_{11} q_{12} - q_{21} q_{22} - q_{31} q_{32} + \\frac{q_{41}^{2} \\left(2 q_{11} q_{12} + 2 q_{21} q_{22} + 2 q_{31} q_{32} + 2 q_{41} q_{42}\\right)}{q_{11}^{2} + q_{21}^{2} + q_{31}^{2} + q_{41}^{2}} - 2 q_{41} q_{42}}{q_{11}^{2} + q_{21}^{2} + q_{31}^{2} + q_{41}^{2}}\\end{matrix}\\right]$"
      ],
      "text/plain": [
       "Matrix([\n",
       "[(q_11**2*(2*q_11*q_12 + 2*q_21*q_22 + 2*q_31*q_32 + 2*q_41*q_42)/(q_11**2 + q_21**2 + q_31**2 + q_41**2) - 2*q_11*q_12 - q_21*q_22 - q_31*q_32 - q_41*q_42)/(q_11**2 + q_21**2 + q_31**2 + q_41**2),                                      (q_11*q_21*(2*q_11*q_12 + 2*q_21*q_22 + 2*q_31*q_32 + 2*q_41*q_42)/(q_11**2 + q_21**2 + q_31**2 + q_41**2) - q_11*q_22)/(q_11**2 + q_21**2 + q_31**2 + q_41**2),                                      (q_11*q_31*(2*q_11*q_12 + 2*q_21*q_22 + 2*q_31*q_32 + 2*q_41*q_42)/(q_11**2 + q_21**2 + q_31**2 + q_41**2) - q_11*q_32)/(q_11**2 + q_21**2 + q_31**2 + q_41**2),                                      (q_11*q_41*(2*q_11*q_12 + 2*q_21*q_22 + 2*q_31*q_32 + 2*q_41*q_42)/(q_11**2 + q_21**2 + q_31**2 + q_41**2) - q_11*q_42)/(q_11**2 + q_21**2 + q_31**2 + q_41**2)],\n",
       "[                                    (q_11*q_21*(2*q_11*q_12 + 2*q_21*q_22 + 2*q_31*q_32 + 2*q_41*q_42)/(q_11**2 + q_21**2 + q_31**2 + q_41**2) - q_12*q_21)/(q_11**2 + q_21**2 + q_31**2 + q_41**2), (-q_11*q_12 + q_21**2*(2*q_11*q_12 + 2*q_21*q_22 + 2*q_31*q_32 + 2*q_41*q_42)/(q_11**2 + q_21**2 + q_31**2 + q_41**2) - 2*q_21*q_22 - q_31*q_32 - q_41*q_42)/(q_11**2 + q_21**2 + q_31**2 + q_41**2),                                      (q_21*q_31*(2*q_11*q_12 + 2*q_21*q_22 + 2*q_31*q_32 + 2*q_41*q_42)/(q_11**2 + q_21**2 + q_31**2 + q_41**2) - q_21*q_32)/(q_11**2 + q_21**2 + q_31**2 + q_41**2),                                      (q_21*q_41*(2*q_11*q_12 + 2*q_21*q_22 + 2*q_31*q_32 + 2*q_41*q_42)/(q_11**2 + q_21**2 + q_31**2 + q_41**2) - q_21*q_42)/(q_11**2 + q_21**2 + q_31**2 + q_41**2)],\n",
       "[                                    (q_11*q_31*(2*q_11*q_12 + 2*q_21*q_22 + 2*q_31*q_32 + 2*q_41*q_42)/(q_11**2 + q_21**2 + q_31**2 + q_41**2) - q_12*q_31)/(q_11**2 + q_21**2 + q_31**2 + q_41**2),                                      (q_21*q_31*(2*q_11*q_12 + 2*q_21*q_22 + 2*q_31*q_32 + 2*q_41*q_42)/(q_11**2 + q_21**2 + q_31**2 + q_41**2) - q_22*q_31)/(q_11**2 + q_21**2 + q_31**2 + q_41**2), (-q_11*q_12 - q_21*q_22 + q_31**2*(2*q_11*q_12 + 2*q_21*q_22 + 2*q_31*q_32 + 2*q_41*q_42)/(q_11**2 + q_21**2 + q_31**2 + q_41**2) - 2*q_31*q_32 - q_41*q_42)/(q_11**2 + q_21**2 + q_31**2 + q_41**2),                                      (q_31*q_41*(2*q_11*q_12 + 2*q_21*q_22 + 2*q_31*q_32 + 2*q_41*q_42)/(q_11**2 + q_21**2 + q_31**2 + q_41**2) - q_31*q_42)/(q_11**2 + q_21**2 + q_31**2 + q_41**2)],\n",
       "[                                    (q_11*q_41*(2*q_11*q_12 + 2*q_21*q_22 + 2*q_31*q_32 + 2*q_41*q_42)/(q_11**2 + q_21**2 + q_31**2 + q_41**2) - q_12*q_41)/(q_11**2 + q_21**2 + q_31**2 + q_41**2),                                      (q_21*q_41*(2*q_11*q_12 + 2*q_21*q_22 + 2*q_31*q_32 + 2*q_41*q_42)/(q_11**2 + q_21**2 + q_31**2 + q_41**2) - q_22*q_41)/(q_11**2 + q_21**2 + q_31**2 + q_41**2),                                      (q_31*q_41*(2*q_11*q_12 + 2*q_21*q_22 + 2*q_31*q_32 + 2*q_41*q_42)/(q_11**2 + q_21**2 + q_31**2 + q_41**2) - q_32*q_41)/(q_11**2 + q_21**2 + q_31**2 + q_41**2), (-q_11*q_12 - q_21*q_22 - q_31*q_32 + q_41**2*(2*q_11*q_12 + 2*q_21*q_22 + 2*q_31*q_32 + 2*q_41*q_42)/(q_11**2 + q_21**2 + q_31**2 + q_41**2) - 2*q_41*q_42)/(q_11**2 + q_21**2 + q_31**2 + q_41**2)]])"
      ]
     },
     "execution_count": 42,
     "metadata": {},
     "output_type": "execute_result"
    }
   ],
   "source": [
    "# compute D_21\n",
    "D_21 = D_ij(w1, q2)\n",
    "dw2_dq1 = D_21\n",
    "dw2_dq1"
   ]
  },
  {
   "cell_type": "code",
   "execution_count": 43,
   "id": "168c1c4c",
   "metadata": {},
   "outputs": [],
   "source": [
    "def sympy_derivative(wi, qk):\n",
    "    \"\"\"\n",
    "    Use sympy to compute dw_i / dq_k\n",
    "\n",
    "    Parameters\n",
    "    ----------\n",
    "    w_j : sympy array, shape (D,1)\n",
    "        The orthogonal, but not yet normalized, vector w_i, i=1,...,d.\n",
    "    q_i : sympy array, shape (D,1)\n",
    "        An orginal, non-orthonogal, vector q_j, j=1,...,d.\n",
    "\n",
    "    Returns\n",
    "    -------\n",
    "    dwi_dqk : sympy Matrix\n",
    "        The D x D matrix gradient matrix.\n",
    "    \"\"\"\n",
    "    dwi_dqk = sp.diff(wi, qk)\n",
    "    # reshape to (D, D) and convert to Matrix type\n",
    "    dwi_dqk = sp.Matrix(dwi_dqk[:, 0, :, 0]).T\n",
    "    return dwi_dqk"
   ]
  },
  {
   "cell_type": "markdown",
   "id": "c97651f6",
   "metadata": {},
   "source": [
    "Now we'll perform an elementwise comparison of our answer for $\\partial{\\bf w}_2/\\partial{\\bf q}_1$, and the sympy expression:"
   ]
  },
  {
   "cell_type": "code",
   "execution_count": 44,
   "id": "fe78a97f",
   "metadata": {},
   "outputs": [
    {
     "data": {
      "text/latex": [
       "$\\displaystyle \\left[\\begin{matrix}0 & 0 & 0 & 0\\\\0 & 0 & 0 & 0\\\\0 & 0 & 0 & 0\\\\0 & 0 & 0 & 0\\end{matrix}\\right]$"
      ],
      "text/plain": [
       "Matrix([\n",
       "[0, 0, 0, 0],\n",
       "[0, 0, 0, 0],\n",
       "[0, 0, 0, 0],\n",
       "[0, 0, 0, 0]])"
      ]
     },
     "execution_count": 44,
     "metadata": {},
     "output_type": "execute_result"
    }
   ],
   "source": [
    "dw2_dq1_sympy = sympy_derivative(w2, q1)\n",
    "sp.simplify(dw2_dq1 - dw2_dq1_sympy)"
   ]
  },
  {
   "cell_type": "markdown",
   "id": "d2ca63b7",
   "metadata": {},
   "source": [
    "This should yield all zeros."
   ]
  },
  {
   "cell_type": "markdown",
   "id": "108185ea",
   "metadata": {},
   "source": [
    "## Verification of $\\partial{\\bf w}_2/\\partial{\\bf q}_2$\n",
    "\n",
    "We now compute the \"normal\" derivative $\\partial{\\bf w}_2/\\partial{\\bf q}_2$:\n",
    "\n",
    "\\begin{align}\n",
    "\\frac{\\partial{\\bf w}_2}{\\partial{\\bf q}_2} \n",
    "= D_{11} - \\frac{{\\bf w}_1{\\bf w}_1^T}{{\\bf w}_1^T{\\bf w}_1} =: D_{22}\n",
    "\\end{align}"
   ]
  },
  {
   "cell_type": "code",
   "execution_count": 45,
   "id": "e77181a5",
   "metadata": {},
   "outputs": [
    {
     "data": {
      "text/latex": [
       "$\\displaystyle \\left[\\begin{matrix}- \\frac{q_{11}^{2}}{q_{11}^{2} + q_{21}^{2} + q_{31}^{2} + q_{41}^{2}} + 1 & - \\frac{q_{11} q_{21}}{q_{11}^{2} + q_{21}^{2} + q_{31}^{2} + q_{41}^{2}} & - \\frac{q_{11} q_{31}}{q_{11}^{2} + q_{21}^{2} + q_{31}^{2} + q_{41}^{2}} & - \\frac{q_{11} q_{41}}{q_{11}^{2} + q_{21}^{2} + q_{31}^{2} + q_{41}^{2}}\\\\- \\frac{q_{11} q_{21}}{q_{11}^{2} + q_{21}^{2} + q_{31}^{2} + q_{41}^{2}} & - \\frac{q_{21}^{2}}{q_{11}^{2} + q_{21}^{2} + q_{31}^{2} + q_{41}^{2}} + 1 & - \\frac{q_{21} q_{31}}{q_{11}^{2} + q_{21}^{2} + q_{31}^{2} + q_{41}^{2}} & - \\frac{q_{21} q_{41}}{q_{11}^{2} + q_{21}^{2} + q_{31}^{2} + q_{41}^{2}}\\\\- \\frac{q_{11} q_{31}}{q_{11}^{2} + q_{21}^{2} + q_{31}^{2} + q_{41}^{2}} & - \\frac{q_{21} q_{31}}{q_{11}^{2} + q_{21}^{2} + q_{31}^{2} + q_{41}^{2}} & - \\frac{q_{31}^{2}}{q_{11}^{2} + q_{21}^{2} + q_{31}^{2} + q_{41}^{2}} + 1 & - \\frac{q_{31} q_{41}}{q_{11}^{2} + q_{21}^{2} + q_{31}^{2} + q_{41}^{2}}\\\\- \\frac{q_{11} q_{41}}{q_{11}^{2} + q_{21}^{2} + q_{31}^{2} + q_{41}^{2}} & - \\frac{q_{21} q_{41}}{q_{11}^{2} + q_{21}^{2} + q_{31}^{2} + q_{41}^{2}} & - \\frac{q_{31} q_{41}}{q_{11}^{2} + q_{21}^{2} + q_{31}^{2} + q_{41}^{2}} & - \\frac{q_{41}^{2}}{q_{11}^{2} + q_{21}^{2} + q_{31}^{2} + q_{41}^{2}} + 1\\end{matrix}\\right]$"
      ],
      "text/plain": [
       "Matrix([\n",
       "[-q_11**2/(q_11**2 + q_21**2 + q_31**2 + q_41**2) + 1,   -q_11*q_21/(q_11**2 + q_21**2 + q_31**2 + q_41**2),   -q_11*q_31/(q_11**2 + q_21**2 + q_31**2 + q_41**2),   -q_11*q_41/(q_11**2 + q_21**2 + q_31**2 + q_41**2)],\n",
       "[  -q_11*q_21/(q_11**2 + q_21**2 + q_31**2 + q_41**2), -q_21**2/(q_11**2 + q_21**2 + q_31**2 + q_41**2) + 1,   -q_21*q_31/(q_11**2 + q_21**2 + q_31**2 + q_41**2),   -q_21*q_41/(q_11**2 + q_21**2 + q_31**2 + q_41**2)],\n",
       "[  -q_11*q_31/(q_11**2 + q_21**2 + q_31**2 + q_41**2),   -q_21*q_31/(q_11**2 + q_21**2 + q_31**2 + q_41**2), -q_31**2/(q_11**2 + q_21**2 + q_31**2 + q_41**2) + 1,   -q_31*q_41/(q_11**2 + q_21**2 + q_31**2 + q_41**2)],\n",
       "[  -q_11*q_41/(q_11**2 + q_21**2 + q_31**2 + q_41**2),   -q_21*q_41/(q_11**2 + q_21**2 + q_31**2 + q_41**2),   -q_31*q_41/(q_11**2 + q_21**2 + q_31**2 + q_41**2), -q_41**2/(q_11**2 + q_21**2 + q_31**2 + q_41**2) + 1]])"
      ]
     },
     "execution_count": 45,
     "metadata": {},
     "output_type": "execute_result"
    }
   ],
   "source": [
    "# D_11 is the identity matrix by definition\n",
    "D_11 = sp.eye(D)\n",
    "dw1_dq1 = D_11\n",
    "# compute D_22\n",
    "dw2_dq2 = D_11 - w1 * w1.T / (w1.T * w1)[0]\n",
    "D_22 = dw2_dq2\n",
    "dw2_dq2"
   ]
  },
  {
   "cell_type": "markdown",
   "id": "5ca9a7ee",
   "metadata": {},
   "source": [
    "Now we calculate the sympy expression of $\\partial{\\bf w}_2/\\partial{\\bf q}_2$ and the difference:"
   ]
  },
  {
   "cell_type": "code",
   "execution_count": 46,
   "id": "7ce40358",
   "metadata": {},
   "outputs": [
    {
     "data": {
      "text/latex": [
       "$\\displaystyle \\left[\\begin{matrix}0 & 0 & 0 & 0\\\\0 & 0 & 0 & 0\\\\0 & 0 & 0 & 0\\\\0 & 0 & 0 & 0\\end{matrix}\\right]$"
      ],
      "text/plain": [
       "Matrix([\n",
       "[0, 0, 0, 0],\n",
       "[0, 0, 0, 0],\n",
       "[0, 0, 0, 0],\n",
       "[0, 0, 0, 0]])"
      ]
     },
     "execution_count": 46,
     "metadata": {},
     "output_type": "execute_result"
    }
   ],
   "source": [
    "# use sympy to compute dw_2 / dq_1\n",
    "dw2_dq2_sympy = sympy_derivative(w2, q2)\n",
    "sp.simplify(dw2_dq2 - dw2_dq2_sympy)"
   ]
  },
  {
   "cell_type": "markdown",
   "id": "ff621335",
   "metadata": {},
   "source": [
    "## Verification of $\\partial{\\bf w}_3/\\partial{\\bf q}_1$\n",
    "\n",
    "The analysis below will continue in a similar vein as performed above.\n",
    "\n",
    "\\begin{align}\n",
    "\\frac{\\partial{\\bf w}_3}{\\partial{\\bf q}_1} = \n",
    "\\sum_{j=1}^2 D_{3j}\\frac{\\partial{\\bf w}_j}{\\partial{\\bf q}_1} = \n",
    "%\n",
    "D_{31}\\frac{\\partial{\\bf w}_1}{\\partial{\\bf q}_1} + D_{32}\\frac{\\partial{\\bf w}_2}{\\partial{\\bf q}_1} = D_{31}D_{11} + D_{32}D_{21}.\n",
    "\\end{align}"
   ]
  },
  {
   "cell_type": "code",
   "execution_count": 47,
   "id": "e53ea4ea",
   "metadata": {},
   "outputs": [],
   "source": [
    "# compute D_31\n",
    "D_31 = D_ij(w1, q3)\n",
    "# compute D_32\n",
    "D_32 = D_ij(w2, q3)\n",
    "# compute dw3_dq1\n",
    "dw3_dq1 = D_31 + D_32 * dw2_dq1\n",
    "# compute Sympy answer\n",
    "dw3_dq1_sympy = sympy_derivative(w3, q1)"
   ]
  },
  {
   "cell_type": "markdown",
   "id": "55589a2c",
   "metadata": {},
   "source": [
    "However, at this point the symbolic expression are so large that simplifying the expressions using `sp.simplify(dw3_dq1 - dw3_dq1_sympy)` takes a long time to compute. To speed things up we will write the following subroutine which evaluates both symbolic expressions at randomly drawn values for the $q_{ij}$ variables."
   ]
  },
  {
   "cell_type": "code",
   "execution_count": 48,
   "id": "1eddba27",
   "metadata": {},
   "outputs": [],
   "source": [
    "def eval_num(deriv1, deriv2):\n",
    "    \"\"\"\n",
    "    Replaces all q_ij variables in two derivative matrices with random values.\n",
    "\n",
    "    Parameters\n",
    "    ----------\n",
    "    deriv1 : sympy matrix, shape (D,D)\n",
    "        A derivative matrix dwi_dqk.\n",
    "    deriv2 : sympy matrix, shape (D,D)\n",
    "        A derivative matrix dwi_dqk, should have exactly the same q_ij variables as deriv1.\n",
    "\n",
    "    Returns\n",
    "    -------\n",
    "    num_deriv1, num_deriv2 : sympy Matrices\n",
    "        The D x D matrix gradient matrices with all numerical values.\n",
    "    \"\"\"\n",
    "    # store a copy of deriv1 and deriv2 to fill with random values\n",
    "    num_deriv1 = deriv1\n",
    "    num_deriv2 = deriv2\n",
    "\n",
    "    # loop over all q_ij variables\n",
    "    for q_ij in num_deriv1.free_symbols:\n",
    "        # choose the same random value for both q_ij variables\n",
    "        xi = np.random.rand()\n",
    "        num_deriv1 = num_deriv1.subs(q_ij, xi)\n",
    "        num_deriv2 = num_deriv2.subs(q_ij, xi)\n",
    "\n",
    "    return num_deriv1, num_deriv2"
   ]
  },
  {
   "cell_type": "code",
   "execution_count": 49,
   "id": "2d78ae44",
   "metadata": {},
   "outputs": [
    {
     "data": {
      "text/latex": [
       "$\\displaystyle \\left[\\begin{matrix}5.55111512312578 \\cdot 10^{-16} & 1.2490009027033 \\cdot 10^{-16} & 2.77555756156289 \\cdot 10^{-16} & 2.77555756156289 \\cdot 10^{-17}\\\\-5.55111512312578 \\cdot 10^{-17} & 6.66133814775094 \\cdot 10^{-16} & 1.11022302462516 \\cdot 10^{-16} & -3.33066907387547 \\cdot 10^{-16}\\\\-1.66533453693773 \\cdot 10^{-16} & -2.77555756156289 \\cdot 10^{-17} & 4.9960036108132 \\cdot 10^{-16} & 1.11022302462516 \\cdot 10^{-16}\\\\1.66533453693773 \\cdot 10^{-16} & 0 & -5.55111512312578 \\cdot 10^{-17} & 3.88578058618805 \\cdot 10^{-16}\\end{matrix}\\right]$"
      ],
      "text/plain": [
       "Matrix([\n",
       "[ 5.55111512312578e-16,   1.2490009027033e-16,  2.77555756156289e-16,  2.77555756156289e-17],\n",
       "[-5.55111512312578e-17,  6.66133814775094e-16,  1.11022302462516e-16, -3.33066907387547e-16],\n",
       "[-1.66533453693773e-16, -2.77555756156289e-17,   4.9960036108132e-16,  1.11022302462516e-16],\n",
       "[ 1.66533453693773e-16,                     0, -5.55111512312578e-17,  3.88578058618805e-16]])"
      ]
     },
     "execution_count": 49,
     "metadata": {},
     "output_type": "execute_result"
    }
   ],
   "source": [
    "num1, num2 = eval_num(dw3_dq1, dw3_dq1_sympy)\n",
    "num1 - num2"
   ]
  },
  {
   "cell_type": "markdown",
   "id": "e7d6e1e8",
   "metadata": {},
   "source": [
    "This should yield all zeros down to machine precision."
   ]
  },
  {
   "cell_type": "markdown",
   "id": "fbaf9a1a",
   "metadata": {},
   "source": [
    "## Verification of $\\partial{\\bf w}_3/\\partial{\\bf q}_2$\n",
    "\n",
    "\\begin{align}\n",
    "\\frac{\\partial{\\bf w}_3}{\\partial{\\bf q}_2} = \n",
    "\\sum_{j=1}^2 D_{3j}\\frac{\\partial{\\bf w}_j}{\\partial{\\bf q}_2} = \n",
    "%\n",
    "D_{31}\\underbrace{\\frac{\\partial{\\bf w}_1}{\\partial{\\bf q}_2}}_{0} + D_{32}\\frac{\\partial{\\bf w}_2}{\\partial{\\bf q}_2} = D_{32}D_{22}.\n",
    "\\end{align}\n",
    "\n",
    "All required $D_{ij}$ matrices have already been computed."
   ]
  },
  {
   "cell_type": "code",
   "execution_count": 50,
   "id": "46b6b878",
   "metadata": {},
   "outputs": [
    {
     "data": {
      "text/latex": [
       "$\\displaystyle \\left[\\begin{matrix}3.60822483003176 \\cdot 10^{-16} & 5.55111512312578 \\cdot 10^{-17} & 4.16333634234434 \\cdot 10^{-17} & 0\\\\-6.93889390390723 \\cdot 10^{-18} & 0 & 0 & 2.77555756156289 \\cdot 10^{-17}\\\\-6.93889390390723 \\cdot 10^{-18} & -2.77555756156289 \\cdot 10^{-17} & 0 & 2.77555756156289 \\cdot 10^{-17}\\\\-1.38777878078145 \\cdot 10^{-17} & 2.77555756156289 \\cdot 10^{-17} & 2.77555756156289 \\cdot 10^{-17} & 0\\end{matrix}\\right]$"
      ],
      "text/plain": [
       "Matrix([\n",
       "[ 3.60822483003176e-16,  5.55111512312578e-17, 4.16333634234434e-17,                    0],\n",
       "[-6.93889390390723e-18,                     0,                    0, 2.77555756156289e-17],\n",
       "[-6.93889390390723e-18, -2.77555756156289e-17,                    0, 2.77555756156289e-17],\n",
       "[-1.38777878078145e-17,  2.77555756156289e-17, 2.77555756156289e-17,                    0]])"
      ]
     },
     "execution_count": 50,
     "metadata": {},
     "output_type": "execute_result"
    }
   ],
   "source": [
    "# compute dw3_dq2\n",
    "dw3_dq2 = D_32 * dw2_dq2\n",
    "# compute Sympy answer\n",
    "dw3_dq2_sympy = sympy_derivative(w3, q2)\n",
    "# evaluate difference numerically\n",
    "num1, num2 = eval_num(dw3_dq2, dw3_dq2_sympy)\n",
    "num1 - num2"
   ]
  },
  {
   "cell_type": "markdown",
   "id": "4d7e8d96",
   "metadata": {},
   "source": [
    "## Verification of $\\partial{\\bf w}_3/\\partial{\\bf q}_3$\n",
    "\n",
    "\\begin{align}\n",
    "\\frac{\\partial{\\bf w}_3}{\\partial{\\bf q}_3} \n",
    "= D_{22} - \\frac{{\\bf w}_2{\\bf w}_2^T}{{\\bf w}_2^T{\\bf w}_2} =: D_{33}\n",
    "\\end{align}"
   ]
  },
  {
   "cell_type": "code",
   "execution_count": 51,
   "id": "21890414",
   "metadata": {},
   "outputs": [
    {
     "data": {
      "text/latex": [
       "$\\displaystyle \\left[\\begin{matrix}0 & 0 & 0 & 0\\\\0 & 0 & 0 & 0\\\\0 & 0 & 0 & 0\\\\0 & 0 & 0 & 0\\end{matrix}\\right]$"
      ],
      "text/plain": [
       "Matrix([\n",
       "[0, 0, 0, 0],\n",
       "[0, 0, 0, 0],\n",
       "[0, 0, 0, 0],\n",
       "[0, 0, 0, 0]])"
      ]
     },
     "execution_count": 51,
     "metadata": {},
     "output_type": "execute_result"
    }
   ],
   "source": [
    "# compute dw3_dq3\n",
    "dw3_dq3 = D_22 - w2 * w2.T / (w2.T * w2)[0]\n",
    "# compute Sympy answer\n",
    "dw3_dq3_sympy = sympy_derivative(w3, q3)\n",
    "# compute difference symbolically, as the normal derivatives are not very complicated expressions\n",
    "sp.simplify(dw3_dq3 - dw3_dq3_sympy)"
   ]
  },
  {
   "cell_type": "markdown",
   "id": "45cadcac",
   "metadata": {},
   "source": [
    "## Verification of gradients of normalized vectors ${\\bf w}_i/\\lVert{\\bf w}_i\\rVert_2$\n",
    "\n",
    "Gram-Schmidt vectors are often normalized in practise, to obtain the set\n",
    "\n",
    "\\begin{align}\n",
    "W = \\bigg\\{\\frac{{\\bf w}_1({\\bf q}_1)}{\\lVert{\\bf w}_1({\\bf q}_1)\\rVert_2},\\;\\;\\frac{{\\bf w}_2({\\bf q}_1, {\\bf q}_2)}{\\lVert{\\bf w}_2({\\bf q}_1, {\\bf q}_2)\\rVert_2},\\;\\;\\cdots\\;\\;,\\frac{{\\bf w}_d({\\bf q}_1,{\\bf q}_2\\,\\cdots,{\\bf q}_d)}{\\lVert{\\bf w}_d({\\bf q}_1,{\\bf q}_2\\,\\cdots,{\\bf q}_d)\\rVert_2}\\bigg\\}.\n",
    "\\end{align}\n",
    "\n",
    "To find the derivatives of these vectors we can just premultiply $\\partial{\\bf w}_i/\\partial{\\bf q}_k$ with a matrix which only depends upon ${\\bf w}_i$, to obtain the gradient of the corresponding normed vector:\n",
    "\n",
    "\\begin{align}\n",
    "\\boxed{\\frac{\\partial}{\\partial{\\bf q}_k}\\left(\\frac{{\\bf w}_i}{\\lVert{\\bf w}_i\\rVert_2}\\right) = \\left[\\frac{I_D}{\\lVert{\\bf w}_i\\rVert_2} - \\frac{{\\bf w}_i{\\bf w}_i^T}{\\lVert{\\bf w}_i\\rVert^3_2}\\right]\\frac{\\partial{\\bf w}_i}{\\partial{\\bf q}_k}.}\n",
    "\\end{align}"
   ]
  },
  {
   "cell_type": "code",
   "execution_count": 52,
   "id": "a6dfe097",
   "metadata": {},
   "outputs": [],
   "source": [
    "def normalize(w):\n",
    "    \"\"\"\n",
    "    Subroutine to normalize a symbolic vector w. Also it computes the \n",
    "    normalizing matrix for derivatives of w / ||w||_2\n",
    "\n",
    "    Parameters\n",
    "    ----------\n",
    "    w : sympy array, shape (D,)\n",
    "        The array to be normalized\n",
    "\n",
    "    Returns\n",
    "    -------\n",
    "    w_normed : sympy array, shape (D, )\n",
    "        The normalized array w / ||w||_2\n",
    "    \n",
    "    w_deriv_norm_mat : sympy matrix, shape (D, D)\n",
    "        The matrix used for computing the derivatives of w / ||w||_2\n",
    "    \"\"\"\n",
    "    norm_w = 0.\n",
    "    # loop ober all entries in w\n",
    "    for w_i in w:\n",
    "        # compute norm\n",
    "        norm_w += w_i ** 2\n",
    "    # return w / ||w||_2\n",
    "    norm_w = sp.sqrt(norm_w)\n",
    "    w_normed = w / norm_w\n",
    "\n",
    "    # also compute the normalizing matrix for derivatives of w / ||w||_2\n",
    "    w_deriv_norm_mat = sp.eye(D) / norm_w - w * w.T / norm_w ** 3\n",
    "\n",
    "    return w_normed, w_deriv_norm_mat"
   ]
  },
  {
   "cell_type": "markdown",
   "id": "5e7ae944",
   "metadata": {},
   "source": [
    "Here we'll compute each ${\\bf w}_i/\\lVert{\\bf w}_i\\rVert_2$, where $\\lVert{\\bf w}_i\\rVert_2 = \\sqrt{w_{1i}^2 + w_{2i}^2 + \\cdots + w_{Di}^2}$:"
   ]
  },
  {
   "cell_type": "code",
   "execution_count": 53,
   "id": "d6229686",
   "metadata": {},
   "outputs": [
    {
     "data": {
      "text/latex": [
       "$\\displaystyle \\left[\\begin{matrix}\\frac{q_{11}}{\\sqrt{q_{11}^{2} + q_{21}^{2} + q_{31}^{2} + q_{41}^{2}}}\\\\\\frac{q_{21}}{\\sqrt{q_{11}^{2} + q_{21}^{2} + q_{31}^{2} + q_{41}^{2}}}\\\\\\frac{q_{31}}{\\sqrt{q_{11}^{2} + q_{21}^{2} + q_{31}^{2} + q_{41}^{2}}}\\\\\\frac{q_{41}}{\\sqrt{q_{11}^{2} + q_{21}^{2} + q_{31}^{2} + q_{41}^{2}}}\\end{matrix}\\right]$"
      ],
      "text/plain": [
       "Matrix([\n",
       "[q_11/sqrt(q_11**2 + q_21**2 + q_31**2 + q_41**2)],\n",
       "[q_21/sqrt(q_11**2 + q_21**2 + q_31**2 + q_41**2)],\n",
       "[q_31/sqrt(q_11**2 + q_21**2 + q_31**2 + q_41**2)],\n",
       "[q_41/sqrt(q_11**2 + q_21**2 + q_31**2 + q_41**2)]])"
      ]
     },
     "execution_count": 53,
     "metadata": {},
     "output_type": "execute_result"
    }
   ],
   "source": [
    "# compute the normed Gram-Schmidt vectors\n",
    "w1_normed, w1_deriv_norm_mat = normalize(w1)\n",
    "w2_normed, w2_deriv_norm_mat = normalize(w2)\n",
    "w3_normed, w3_deriv_norm_mat = normalize(w3)\n",
    "w1_normed"
   ]
  },
  {
   "cell_type": "markdown",
   "id": "03cc79ca",
   "metadata": {},
   "source": [
    "Here we compute all reference derivatives $\\partial\\left({\\bf w}_i/\\lVert{\\bf w}_i\\rVert_2\\right)/\\partial{\\bf q}_k$ in one shot:"
   ]
  },
  {
   "cell_type": "code",
   "execution_count": 54,
   "id": "4f0a611c",
   "metadata": {},
   "outputs": [],
   "source": [
    "# d(w1/||w1||_2) / dq1\n",
    "dw1_dq1_normed_sympy = sympy_derivative(w1_normed, q1)\n",
    "# d(w2/||w2||_2) / dq1\n",
    "dw2_dq1_normed_sympy = sympy_derivative(w2_normed, q1)\n",
    "# d(w2/||w2||_2) / dq2\n",
    "dw2_dq2_normed_sympy = sympy_derivative(w2_normed, q2)\n",
    "# d(w3/||w3||_2) / dq1\n",
    "dw3_dq1_normed_sympy = sympy_derivative(w3_normed, q1)\n",
    "# d(w3/||w3||_2) / dq2\n",
    "dw3_dq2_normed_sympy = sympy_derivative(w3_normed, q2)\n",
    "# d(w3/||w3||_2) / dq3\n",
    "dw3_dq3_normed_sympy = sympy_derivative(w3_normed, q3)"
   ]
  },
  {
   "cell_type": "markdown",
   "id": "bfab2697",
   "metadata": {},
   "source": [
    "Here we do the same using our expression for $\\partial\\left({\\bf w}_i/\\lVert{\\bf w}_i\\rVert_2\\right)/\\partial{\\bf q}_k$"
   ]
  },
  {
   "cell_type": "code",
   "execution_count": 55,
   "id": "4782d26d",
   "metadata": {},
   "outputs": [],
   "source": [
    "# d(w1/||w1||_2) / dq1\n",
    "dw1_dq1_normed = w1_deriv_norm_mat * dw1_dq1\n",
    "# d(w2/||w2||_2) / dq1\n",
    "dw2_dq1_normed = w2_deriv_norm_mat * dw2_dq1\n",
    "# d(w2/||w2||_2) / dq2\n",
    "dw2_dq2_normed = w2_deriv_norm_mat * dw2_dq2\n",
    "# d(w3/||w3||_2) / dq1\n",
    "dw3_dq1_normed = w3_deriv_norm_mat * dw3_dq1\n",
    "# d(w3/||w3||_2) / dq2\n",
    "dw3_dq2_normed = w3_deriv_norm_mat * dw3_dq2\n",
    "# d(w3/||w3||_2) / dq3\n",
    "dw3_dq3_normed = w3_deriv_norm_mat * dw3_dq3"
   ]
  },
  {
   "cell_type": "markdown",
   "id": "1e6445c6",
   "metadata": {},
   "source": [
    "For each derivative we will again compute the difference with the Sympy reference value, using numerical evaluation where necessary:"
   ]
  },
  {
   "cell_type": "markdown",
   "id": "76440ac7",
   "metadata": {},
   "source": [
    "* $\\partial\\left({\\bf w}_1/\\lVert{\\bf w}_1\\rVert_2\\right)/\\partial{\\bf q}_1$ check"
   ]
  },
  {
   "cell_type": "code",
   "execution_count": 56,
   "id": "dfb55184",
   "metadata": {},
   "outputs": [
    {
     "data": {
      "text/latex": [
       "$\\displaystyle \\left[\\begin{matrix}0 & 0 & 0 & 0\\\\0 & 0 & 0 & 0\\\\0 & 0 & 0 & 0\\\\0 & 0 & 0 & 0\\end{matrix}\\right]$"
      ],
      "text/plain": [
       "Matrix([\n",
       "[0, 0, 0, 0],\n",
       "[0, 0, 0, 0],\n",
       "[0, 0, 0, 0],\n",
       "[0, 0, 0, 0]])"
      ]
     },
     "execution_count": 56,
     "metadata": {},
     "output_type": "execute_result"
    }
   ],
   "source": [
    "sp.simplify(dw1_dq1_normed - dw1_dq1_normed_sympy)"
   ]
  },
  {
   "cell_type": "markdown",
   "id": "7237e063",
   "metadata": {},
   "source": [
    "* $\\partial\\left({\\bf w}_2/\\lVert{\\bf w}_2\\rVert_2\\right)/\\partial{\\bf q}_1$ check"
   ]
  },
  {
   "cell_type": "code",
   "execution_count": 57,
   "id": "1fcdb7b2",
   "metadata": {},
   "outputs": [
    {
     "data": {
      "text/latex": [
       "$\\displaystyle \\left[\\begin{matrix}0 & 0 & 0 & 0\\\\0 & 0 & 0 & 0\\\\0 & 0 & 0 & 0\\\\0 & 0 & 0 & 0\\end{matrix}\\right]$"
      ],
      "text/plain": [
       "Matrix([\n",
       "[0, 0, 0, 0],\n",
       "[0, 0, 0, 0],\n",
       "[0, 0, 0, 0],\n",
       "[0, 0, 0, 0]])"
      ]
     },
     "execution_count": 57,
     "metadata": {},
     "output_type": "execute_result"
    }
   ],
   "source": [
    "sp.simplify(dw2_dq1_normed - dw2_dq1_normed_sympy)"
   ]
  },
  {
   "cell_type": "markdown",
   "id": "463fd260",
   "metadata": {},
   "source": [
    "* $\\partial\\left({\\bf w}_2/\\lVert{\\bf w}_2\\rVert_2\\right)/\\partial{\\bf q}_2$ check"
   ]
  },
  {
   "cell_type": "code",
   "execution_count": 58,
   "id": "2d3a0b57",
   "metadata": {},
   "outputs": [
    {
     "data": {
      "text/latex": [
       "$\\displaystyle \\left[\\begin{matrix}0 & 0 & 0 & 0\\\\0 & 0 & 0 & 0\\\\0 & 0 & 0 & 0\\\\0 & 0 & 0 & 0\\end{matrix}\\right]$"
      ],
      "text/plain": [
       "Matrix([\n",
       "[0, 0, 0, 0],\n",
       "[0, 0, 0, 0],\n",
       "[0, 0, 0, 0],\n",
       "[0, 0, 0, 0]])"
      ]
     },
     "execution_count": 58,
     "metadata": {},
     "output_type": "execute_result"
    }
   ],
   "source": [
    "sp.simplify(dw2_dq2_normed - dw2_dq2_normed_sympy)"
   ]
  },
  {
   "cell_type": "markdown",
   "id": "4d0c892a",
   "metadata": {},
   "source": [
    "* $\\partial\\left({\\bf w}_3/\\lVert{\\bf w}_3\\rVert_2\\right)/\\partial{\\bf q}_1$ check"
   ]
  },
  {
   "cell_type": "code",
   "execution_count": 59,
   "id": "abe873c0",
   "metadata": {},
   "outputs": [
    {
     "data": {
      "text/latex": [
       "$\\displaystyle \\left[\\begin{matrix}-4.44089209850063 \\cdot 10^{-15} & 3.10862446895044 \\cdot 10^{-15} & 8.88178419700125 \\cdot 10^{-16} & 1.66533453693773 \\cdot 10^{-15}\\\\1.77635683940025 \\cdot 10^{-15} & -1.4432899320127 \\cdot 10^{-15} & -2.22044604925031 \\cdot 10^{-15} & 6.66133814775094 \\cdot 10^{-16}\\\\3.60822483003176 \\cdot 10^{-16} & 1.55431223447522 \\cdot 10^{-15} & -5.6621374255883 \\cdot 10^{-15} & 4.21884749357559 \\cdot 10^{-15}\\\\-9.43689570931383 \\cdot 10^{-16} & -3.33066907387547 \\cdot 10^{-16} & 1.38777878078145 \\cdot 10^{-15} & -2.22044604925031 \\cdot 10^{-16}\\end{matrix}\\right]$"
      ],
      "text/plain": [
       "Matrix([\n",
       "[-4.44089209850063e-15,  3.10862446895044e-15,  8.88178419700125e-16,  1.66533453693773e-15],\n",
       "[ 1.77635683940025e-15,  -1.4432899320127e-15, -2.22044604925031e-15,  6.66133814775094e-16],\n",
       "[ 3.60822483003176e-16,  1.55431223447522e-15,  -5.6621374255883e-15,  4.21884749357559e-15],\n",
       "[-9.43689570931383e-16, -3.33066907387547e-16,  1.38777878078145e-15, -2.22044604925031e-16]])"
      ]
     },
     "execution_count": 59,
     "metadata": {},
     "output_type": "execute_result"
    }
   ],
   "source": [
    "num1, num2 = eval_num(dw3_dq1_normed, dw3_dq1_normed_sympy)\n",
    "num1 - num2"
   ]
  },
  {
   "cell_type": "markdown",
   "id": "2caaff1c",
   "metadata": {},
   "source": [
    "* $\\partial\\left({\\bf w}_3/\\lVert{\\bf w}_3\\rVert_2\\right)/\\partial{\\bf q}_2$ check"
   ]
  },
  {
   "cell_type": "code",
   "execution_count": 60,
   "id": "8dd22ec9",
   "metadata": {},
   "outputs": [
    {
     "data": {
      "text/latex": [
       "$\\displaystyle \\left[\\begin{matrix}-5.55111512312578 \\cdot 10^{-17} & 1.11022302462516 \\cdot 10^{-16} & -1.11022302462516 \\cdot 10^{-16} & 8.32667268468867 \\cdot 10^{-17}\\\\3.33066907387547 \\cdot 10^{-16} & -3.33066907387547 \\cdot 10^{-16} & 1.11022302462516 \\cdot 10^{-16} & 3.33066907387547 \\cdot 10^{-16}\\\\-4.44089209850063 \\cdot 10^{-16} & 2.22044604925031 \\cdot 10^{-16} & -3.33066907387547 \\cdot 10^{-16} & 3.33066907387547 \\cdot 10^{-16}\\\\1.11022302462516 \\cdot 10^{-16} & -1.11022302462516 \\cdot 10^{-16} & 6.66133814775094 \\cdot 10^{-16} & -1.11022302462516 \\cdot 10^{-16}\\end{matrix}\\right]$"
      ],
      "text/plain": [
       "Matrix([\n",
       "[-5.55111512312578e-17,  1.11022302462516e-16, -1.11022302462516e-16,  8.32667268468867e-17],\n",
       "[ 3.33066907387547e-16, -3.33066907387547e-16,  1.11022302462516e-16,  3.33066907387547e-16],\n",
       "[-4.44089209850063e-16,  2.22044604925031e-16, -3.33066907387547e-16,  3.33066907387547e-16],\n",
       "[ 1.11022302462516e-16, -1.11022302462516e-16,  6.66133814775094e-16, -1.11022302462516e-16]])"
      ]
     },
     "execution_count": 60,
     "metadata": {},
     "output_type": "execute_result"
    }
   ],
   "source": [
    "num1, num2 = eval_num(dw3_dq2_normed, dw3_dq2_normed_sympy)\n",
    "num1 - num2"
   ]
  },
  {
   "cell_type": "markdown",
   "id": "fec5e304",
   "metadata": {},
   "source": [
    "* $\\partial\\left({\\bf w}_3/\\lVert{\\bf w}_3\\rVert_2\\right)/\\partial{\\bf q}_3$ check"
   ]
  },
  {
   "cell_type": "code",
   "execution_count": 61,
   "id": "f3edd011",
   "metadata": {},
   "outputs": [
    {
     "data": {
      "text/latex": [
       "$\\displaystyle \\left[\\begin{matrix}-8.32667268468867 \\cdot 10^{-17} & -2.77555756156289 \\cdot 10^{-16} & 2.22044604925031 \\cdot 10^{-16} & 1.11022302462516 \\cdot 10^{-16}\\\\-5.55111512312578 \\cdot 10^{-17} & -5.55111512312578 \\cdot 10^{-17} & 2.22044604925031 \\cdot 10^{-16} & 0\\\\-2.22044604925031 \\cdot 10^{-16} & 2.77555756156289 \\cdot 10^{-16} & 4.44089209850063 \\cdot 10^{-16} & -4.44089209850063 \\cdot 10^{-16}\\\\1.11022302462516 \\cdot 10^{-16} & 5.55111512312578 \\cdot 10^{-17} & 0 & 4.44089209850063 \\cdot 10^{-16}\\end{matrix}\\right]$"
      ],
      "text/plain": [
       "Matrix([\n",
       "[-8.32667268468867e-17, -2.77555756156289e-16, 2.22044604925031e-16,  1.11022302462516e-16],\n",
       "[-5.55111512312578e-17, -5.55111512312578e-17, 2.22044604925031e-16,                     0],\n",
       "[-2.22044604925031e-16,  2.77555756156289e-16, 4.44089209850063e-16, -4.44089209850063e-16],\n",
       "[ 1.11022302462516e-16,  5.55111512312578e-17,                    0,  4.44089209850063e-16]])"
      ]
     },
     "execution_count": 61,
     "metadata": {},
     "output_type": "execute_result"
    }
   ],
   "source": [
    "num1, num2 = eval_num(dw3_dq3_normed, dw3_dq3_normed_sympy)\n",
    "num1 - num2"
   ]
  },
  {
   "cell_type": "markdown",
   "id": "6ecab157",
   "metadata": {},
   "source": [
    "# Verification of Python implementation\n",
    "\n",
    "The results above show the mathematical validity of the recurrence relations for the Gram-Schmidt derivatives. The next step is to verify if we implemented these equations correctly in Python. This implementation can be found in `gram_schmidt_derivatives.py`, which we import below."
   ]
  },
  {
   "cell_type": "code",
   "execution_count": 62,
   "id": "ecbf5f66",
   "metadata": {},
   "outputs": [],
   "source": [
    "import gram_schmidt_derivatives as gsd"
   ]
  },
  {
   "cell_type": "markdown",
   "id": "0c00beda",
   "metadata": {},
   "source": [
    "Here we randomly generate some ${\\bf q}_i$ vectors and pass these to the Python subroutine."
   ]
  },
  {
   "cell_type": "code",
   "execution_count": 63,
   "id": "dc3e0332",
   "metadata": {},
   "outputs": [
    {
     "name": "stdout",
     "output_type": "stream",
     "text": [
      "Computing Gram-Schmidt orthogonalization...\n",
      "done.\n"
     ]
    }
   ],
   "source": [
    "Q = np.random.rand(D, d)\n",
    "gs_deriv = gsd.Gram_Schmidt_Derivatives(Q)"
   ]
  },
  {
   "cell_type": "markdown",
   "id": "0c9db907",
   "metadata": {},
   "source": [
    "Next we retrieve the Python derivatives, which are stored in a dict with `(i, k)` tuples as indices, corresponding to $\\partial\\left({\\bf w}_i\\right)/\\partial{\\bf q}_k$"
   ]
  },
  {
   "cell_type": "code",
   "execution_count": 64,
   "id": "5bc1aab6",
   "metadata": {},
   "outputs": [
    {
     "data": {
      "text/plain": [
       "array([[-0.44052517,  0.19043534, -0.08075742, -0.0377278 ],\n",
       "       [ 0.19817804,  0.05847759, -0.23990129, -0.11207575],\n",
       "       [ 0.04155361,  0.11861807, -0.55753945, -0.02349984],\n",
       "       [ 0.13242033,  0.37800438, -0.16029934, -0.58212514]])"
      ]
     },
     "execution_count": 64,
     "metadata": {},
     "output_type": "execute_result"
    }
   ],
   "source": [
    "dw_dq_python = gs_deriv.get_w_derivatives()\n",
    "dw_dq_python[(2,1)]"
   ]
  },
  {
   "cell_type": "markdown",
   "id": "7634d3bf",
   "metadata": {},
   "source": [
    "We will evaluate these derivatives against the validated recurrence relations. To do so, we must numerically evaluate the latter for the same random $q_{ij}$ values stored in `Q`. The following subroutine does this:"
   ]
  },
  {
   "cell_type": "code",
   "execution_count": 65,
   "id": "cd0496e8",
   "metadata": {},
   "outputs": [],
   "source": [
    "def eval_num_at_Q(dw_dq, Q):\n",
    "    \"\"\"\n",
    "    Evaluate the symbolic derivative dw_dq at the numerical values of Q.\n",
    "\n",
    "    Parameters\n",
    "    ----------\n",
    "    dw_dq : sympy Matrix, size (D, D)\n",
    "        Gram-Schmidt derivative matrix.\n",
    "    Q : array, size (D, d)\n",
    "        Numerical values for the q_ij variables.\n",
    "\n",
    "    Returns\n",
    "    -------\n",
    "    array, size (D,D)\n",
    "        dw_dq evaluated at Q.\n",
    "\n",
    "    \"\"\"\n",
    "    # make a copy of dw_dq in which we can substitute numerical values\n",
    "    num_deriv = dw_dq\n",
    "    # loop over all q_ij variables of dw_dq\n",
    "    for q_ij in dw_dq.free_symbols:\n",
    "        # get the name of each variable, e.g. 'q_12'\n",
    "        var_name = q_ij.name\n",
    "        # extract the indices i, j of q_ij\n",
    "        i = int(var_name[2]) - 1\n",
    "        j = int(var_name[3]) - 1\n",
    "        # substitue q_ij with the value Q[i, j] in num_deriv\n",
    "        num_deriv = num_deriv.subs(q_ij, Q[i, j])\n",
    "    # return a numpy array\n",
    "    return np.array(num_deriv).astype(np.float64)"
   ]
  },
  {
   "cell_type": "markdown",
   "id": "a475cc39",
   "metadata": {},
   "source": [
    "Below we numerically evaluate the difference between the Python implementation and the Sympy recurrence relations for $\\partial{\\bf w}_i/\\partial{\\bf q}_k$:"
   ]
  },
  {
   "cell_type": "code",
   "execution_count": 66,
   "id": "734ee5ea",
   "metadata": {},
   "outputs": [
    {
     "name": "stdout",
     "output_type": "stream",
     "text": [
      "[[-5.55111512e-17 -2.77555756e-17 -2.77555756e-17 -1.38777878e-17]\n",
      " [-5.55111512e-17  1.38777878e-17 -2.77555756e-17 -4.16333634e-17]\n",
      " [-1.38777878e-17  0.00000000e+00  0.00000000e+00 -1.04083409e-17]\n",
      " [-2.77555756e-17 -5.55111512e-17 -5.55111512e-17  0.00000000e+00]]\n",
      "[[ 0.00000000e+00  0.00000000e+00  0.00000000e+00 -2.77555756e-17]\n",
      " [ 0.00000000e+00 -1.11022302e-16  0.00000000e+00 -5.55111512e-17]\n",
      " [ 0.00000000e+00  0.00000000e+00  0.00000000e+00  0.00000000e+00]\n",
      " [-2.77555756e-17 -5.55111512e-17  0.00000000e+00 -1.11022302e-16]]\n",
      "[[-2.22044605e-16  8.32667268e-17 -5.20417043e-17 -3.46944695e-18]\n",
      " [-1.11022302e-16  2.49800181e-16 -8.32667268e-17  2.77555756e-17]\n",
      " [ 8.32667268e-17 -1.38777878e-17  1.66533454e-16  1.11022302e-16]\n",
      " [ 2.77555756e-17  2.77555756e-17  5.55111512e-17  3.33066907e-16]]\n",
      "[[ 3.33066907e-16 -1.38777878e-16  4.85722573e-17 -2.77555756e-17]\n",
      " [ 0.00000000e+00 -5.55111512e-17  1.94289029e-16  6.93889390e-17]\n",
      " [ 0.00000000e+00  1.80411242e-16  2.22044605e-16 -2.22044605e-16]\n",
      " [ 1.11022302e-16  2.22044605e-16 -5.55111512e-17 -2.77555756e-17]]\n",
      "[[ 0.00000000e+00  0.00000000e+00  1.38777878e-17  0.00000000e+00]\n",
      " [ 0.00000000e+00 -2.77555756e-17  0.00000000e+00 -5.55111512e-17]\n",
      " [ 1.38777878e-17  0.00000000e+00  0.00000000e+00 -1.11022302e-16]\n",
      " [ 0.00000000e+00 -5.55111512e-17 -1.11022302e-16 -2.77555756e-16]]\n"
     ]
    }
   ],
   "source": [
    "# evaluate python implementation of dw_2 / dq_1\n",
    "dw_dq_ref = eval_num_at_Q(dw2_dq1, Q)\n",
    "print(dw_dq_ref - dw_dq_python[(2,1)])\n",
    "\n",
    "# evaluate python implementation of dw_2 / dq_2\n",
    "dw_dq_ref = eval_num_at_Q(dw2_dq2, Q)\n",
    "print(dw_dq_ref - dw_dq_python[(2,2)])\n",
    "\n",
    "# evaluate python implementation of dw_3 / dq_1\n",
    "dw_dq_ref = eval_num_at_Q(dw3_dq1, Q)\n",
    "print(dw_dq_ref - dw_dq_python[(3,1)])\n",
    "\n",
    "# evaluate python implementation of dw_3 / dq_2\n",
    "dw_dq_ref = eval_num_at_Q(dw3_dq2, Q)\n",
    "print(dw_dq_ref - dw_dq_python[(3,2)])\n",
    "\n",
    "# evaluate python implementation of dw_3 / dq_3\n",
    "dw_dq_ref = eval_num_at_Q(dw3_dq3, Q)\n",
    "print(dw_dq_ref - dw_dq_python[(3,3)])"
   ]
  },
  {
   "cell_type": "markdown",
   "id": "f1b84bd9",
   "metadata": {},
   "source": [
    "Again, these should all yield a matrix containing only zeros to machine precision. Finally, we do the same for all $\\partial\\left({\\bf w}_i/\\lVert{\\bf w}_i\\rVert_2\\right)/\\partial{\\bf q}_k$"
   ]
  },
  {
   "cell_type": "code",
   "execution_count": 67,
   "id": "c109bf4c",
   "metadata": {},
   "outputs": [],
   "source": [
    "dw_dq_python_normed = gs_deriv.get_normed_w_derivatives()"
   ]
  },
  {
   "cell_type": "code",
   "execution_count": 68,
   "id": "f07cd8b1",
   "metadata": {},
   "outputs": [
    {
     "name": "stdout",
     "output_type": "stream",
     "text": [
      "[[-2.22044605e-16  0.00000000e+00 -1.11022302e-16 -5.55111512e-17]\n",
      " [ 1.11022302e-16  2.77555756e-17 -1.11022302e-16 -1.66533454e-16]\n",
      " [-5.89805982e-17 -8.32667268e-17 -1.11022302e-16  1.38777878e-16]\n",
      " [-6.93889390e-17 -5.55111512e-17  1.17961196e-16 -1.11022302e-16]]\n",
      "[[ 0.00000000e+00 -5.55111512e-17  2.77555756e-17  0.00000000e+00]\n",
      " [-5.55111512e-17 -1.11022302e-16  8.32667268e-17 -5.55111512e-17]\n",
      " [ 4.16333634e-17  1.38777878e-16  0.00000000e+00 -2.22044605e-16]\n",
      " [ 5.55111512e-17  0.00000000e+00 -3.33066907e-16 -3.33066907e-16]]\n",
      "[[-2.22044605e-16  1.52655666e-16 -5.55111512e-17  1.04083409e-17]\n",
      " [-2.22044605e-16  2.77555756e-16 -1.11022302e-16  2.77555756e-17]\n",
      " [ 1.11022302e-16 -5.55111512e-17  2.22044605e-16  1.11022302e-16]\n",
      " [ 6.24500451e-17  1.38777878e-17  8.32667268e-17  3.88578059e-16]]\n",
      "[[ 2.77555756e-16 -1.38777878e-16  6.24500451e-17  3.81639165e-17]\n",
      " [-1.11022302e-16 -5.55111512e-17  2.35922393e-16  5.55111512e-17]\n",
      " [ 0.00000000e+00  1.94289029e-16  2.22044605e-16 -2.77555756e-16]\n",
      " [ 2.22044605e-16  2.77555756e-16 -5.55111512e-17 -5.55111512e-17]]\n",
      "[[-6.93889390e-17  2.08166817e-17  2.08166817e-17 -2.77555756e-17]\n",
      " [ 2.77555756e-16 -1.11022302e-16  0.00000000e+00 -8.32667268e-17]\n",
      " [-6.93889390e-17  2.77555756e-17  0.00000000e+00 -1.11022302e-16]\n",
      " [-8.32667268e-17 -2.77555756e-17  0.00000000e+00 -3.33066907e-16]]\n"
     ]
    }
   ],
   "source": [
    "# evaluate python implementation of dw_2 / dq_1\n",
    "dw_dq_ref = eval_num_at_Q(dw2_dq1_normed, Q)\n",
    "print(dw_dq_ref - dw_dq_python_normed[(2,1)])\n",
    "\n",
    "# evaluate python implementation of dw_2 / dq_2\n",
    "dw_dq_ref = eval_num_at_Q(dw2_dq2_normed, Q)\n",
    "print(dw_dq_ref - dw_dq_python_normed[(2,2)])\n",
    "\n",
    "# evaluate python implementation of dw_3 / dq_1\n",
    "dw_dq_ref = eval_num_at_Q(dw3_dq1_normed, Q)\n",
    "print(dw_dq_ref - dw_dq_python_normed[(3,1)])\n",
    "\n",
    "# evaluate python implementation of dw_3 / dq_2\n",
    "dw_dq_ref = eval_num_at_Q(dw3_dq2_normed, Q)\n",
    "print(dw_dq_ref - dw_dq_python_normed[(3,2)])\n",
    "\n",
    "# evaluate python implementation of dw_3 / dq_3\n",
    "dw_dq_ref = eval_num_at_Q(dw3_dq3_normed, Q)\n",
    "print(dw_dq_ref - dw_dq_python_normed[(3,3)])"
   ]
  },
  {
   "cell_type": "markdown",
   "id": "79a60ca3",
   "metadata": {},
   "source": [
    "This concludes the check. The recurrence relationships are valid and the Python implementation correctly implements these equations."
   ]
  }
 ],
 "metadata": {
  "kernelspec": {
   "display_name": "Python 3",
   "language": "python",
   "name": "python3"
  },
  "language_info": {
   "codemirror_mode": {
    "name": "ipython",
    "version": 3
   },
   "file_extension": ".py",
   "mimetype": "text/x-python",
   "name": "python",
   "nbconvert_exporter": "python",
   "pygments_lexer": "ipython3",
   "version": "3.7.7"
  }
 },
 "nbformat": 4,
 "nbformat_minor": 5
}
